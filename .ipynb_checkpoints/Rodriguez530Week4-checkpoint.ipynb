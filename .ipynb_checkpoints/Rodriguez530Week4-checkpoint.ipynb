{
 "cells": [
  {
   "cell_type": "markdown",
   "id": "bfa049ad",
   "metadata": {},
   "source": [
    "# Exercise 3-1 "
   ]
  },
  {
   "cell_type": "markdown",
   "id": "1f18e2a4",
   "metadata": {},
   "source": [
    "Something like the class size paradox appears if you survey \n",
    "children and ask how many children are in their family Families with many \n",
    "children are more likely to appear in your sample, and families with no \n",
    "children have no chance to be in the sample. \n",
    "\n",
    "Use the NSFG respondent variable MUMKDHH to construct the actual distribu- \n",
    "tion for the number of children under 18 in the household. \n",
    "\n",
    "Now compute the biased distribution we would see if we surveyed the chil- \n",
    "dren and asked them how many children under 18 (including themselves) \n",
    "are in their household. \n",
    "\n",
    "Plot the actual and biased distributions, and compute their means. As a \n",
    "starting place, you can use chap03ex . ipynb."
   ]
  },
  {
   "cell_type": "code",
   "execution_count": 7,
   "id": "7cd788c4",
   "metadata": {},
   "outputs": [
    {
     "name": "stdout",
     "output_type": "stream",
     "text": [
      "Downloaded first.py\n"
     ]
    }
   ],
   "source": [
    "# Downloading first.py since it was not reading it from my directory.\n",
    "\n",
    "from os.path import basename, exists\n",
    "\n",
    "\n",
    "def download(url):\n",
    "    filename = basename(url)\n",
    "    if not exists(filename):\n",
    "        from urllib.request import urlretrieve\n",
    "\n",
    "        local, _ = urlretrieve(url, filename)\n",
    "        print(\"Downloaded \" + local)\n",
    "        \n",
    "download(\"https://github.com/AllenDowney/ThinkStats2/raw/master/code/first.py\")"
   ]
  },
  {
   "cell_type": "code",
   "execution_count": 11,
   "id": "2349b470",
   "metadata": {},
   "outputs": [],
   "source": [
    "# importing neccesary files and libraries\n",
    "\n",
    "import nsfg\n",
    "import first\n",
    "import thinkstats2\n",
    "import thinkplot\n",
    "import numpy as np\n",
    "\n",
    "# reading FemResp file\n",
    "resp = nsfg.ReadFemResp()"
   ]
  },
  {
   "cell_type": "code",
   "execution_count": 10,
   "id": "e15cb37c",
   "metadata": {},
   "outputs": [
    {
     "data": {
      "image/png": "[encoded data removed]",
      "text/plain": [
       "<Figure size 640x480 with 1 Axes>"
      ]
     },
     "metadata": {},
     "output_type": "display_data"
    }
   ],
   "source": [
    "# Solution\n",
    "pmf = thinkstats2.Pmf(resp.numkdhh, label='numkdhh')\n",
    "\n",
    "thinkplot.Pmf(pmf)\n",
    "thinkplot.Config(xlabel='Number of children', ylabel='PMF')"
   ]
  },
  {
   "cell_type": "code",
   "execution_count": 13,
   "id": "362fd2c7",
   "metadata": {},
   "outputs": [
    {
     "data": {
      "image/png": "[encoded data removed]",
      "text/plain": [
       "<Figure size 640x480 with 1 Axes>"
      ]
     },
     "metadata": {},
     "output_type": "display_data"
    }
   ],
   "source": [
    "# Using function that computes the biased PMF of the surveyed sudents when asked about the size of the class they are in.\n",
    "def BiasPmf(pmf, label):\n",
    "    new_pmf = pmf.Copy(label=label)\n",
    "\n",
    "    for x, p in pmf.Items():\n",
    "        new_pmf.Mult(x, x)\n",
    "\n",
    "    new_pmf.Normalize()\n",
    "    return new_pmf\n",
    "\n",
    "# creating a variable that passes arguments to BiasPmf function \n",
    "biased = BiasPmf(pmf, label='biased')\n",
    "\n",
    "# plotting the bias calculation\n",
    "thinkplot.PrePlot(2)\n",
    "thinkplot.Pmfs([pmf, biased])\n",
    "thinkplot.Config(xlabel='Number of children', ylabel='PMF')"
   ]
  },
  {
   "cell_type": "code",
   "execution_count": 19,
   "id": "1ba2b566",
   "metadata": {},
   "outputs": [
    {
     "data": {
      "text/plain": [
       "1.024205155043831"
      ]
     },
     "execution_count": 19,
     "metadata": {},
     "output_type": "execute_result"
    }
   ],
   "source": [
    "# computing the pmf mean\n",
    "pmf.Mean()"
   ]
  },
  {
   "cell_type": "code",
   "execution_count": 17,
   "id": "cd8aa362",
   "metadata": {},
   "outputs": [
    {
     "data": {
      "text/plain": [
       "2.403679100664282"
      ]
     },
     "execution_count": 17,
     "metadata": {},
     "output_type": "execute_result"
    }
   ],
   "source": [
    "# computing the bias mean\n",
    "biased.Mean()"
   ]
  },
  {
   "cell_type": "markdown",
   "id": "ee9ed30b",
   "metadata": {},
   "source": [
    "# Exercise 3-2"
   ]
  },
  {
   "cell_type": "markdown",
   "id": "8ce34d6b",
   "metadata": {},
   "source": [
    "Write functions called PmfMean and PmfVar that take a Pmf object and compute the mean and variance. To test these methods, check that they are consistent with the methods Mean and Var provided by Pmf."
   ]
  },
  {
   "cell_type": "code",
   "execution_count": 33,
   "id": "40915877",
   "metadata": {},
   "outputs": [
    {
     "name": "stdout",
     "output_type": "stream",
     "text": [
      "2.3\n",
      "0.81\n"
     ]
    }
   ],
   "source": [
    "def pmfMean(pmf):\n",
    "    \"\"\"calculates the mean (expected value) of a discrete random variable given its PMF.\n",
    "    \n",
    "    Args:\n",
    "        pmf dictionary\n",
    "    \n",
    "    Returns:\n",
    "        float mean of the random variable.\n",
    "    \"\"\"\n",
    "    mean = sum(p * x for x, p in pmf.items())\n",
    "    return mean\n",
    "\n",
    "def pmfVar(pmf):\n",
    "    \"\"\"calculates the variance of a discrete random variable given its PMF.\n",
    "    \n",
    "    Args:\n",
    "        pmf dictionary\n",
    "    \n",
    "    returns:\n",
    "        float variance of the random variable.\n",
    "    \"\"\"\n",
    "    mean = pmfMean(pmf)\n",
    "    variance = sum((x - mean) ** 2 * p for x, p in pmf.items())\n",
    "    return variance\n",
    "\n",
    "# Example test\n",
    "pmf = {1: 0.2, 2: 0.4, 3: 0.3, 4: 0.1, 5: 0.0}\n",
    "mean = pmfMean(pmf)\n",
    "variance = pmfVar(pmf)\n",
    "print(mean)\n",
    "print(variance)"
   ]
  },
  {
   "cell_type": "markdown",
   "id": "7596b3a9",
   "metadata": {},
   "source": [
    "# Excercise 4-1"
   ]
  },
  {
   "cell_type": "markdown",
   "id": "415a6f2e",
   "metadata": {},
   "source": [
    "How much did you weight at birth? If you don't know, call your mother or someone else who knows. Using the NSFG data (all live births), compute the distributuion of birth weights and use it to find your percentile rank. If you were a first baby, find your percentile rank in the distribution for first babies. Otherwise use the distribution for others."
   ]
  },
  {
   "cell_type": "code",
   "execution_count": 50,
   "id": "a485b8da",
   "metadata": {},
   "outputs": [],
   "source": [
    "# importing neccesary files not already imported from previous excercises.\n",
    "import first\n",
    "\n",
    "# reading data\n",
    "live, firsts, others = first.MakeFrames()"
   ]
  },
  {
   "cell_type": "code",
   "execution_count": 51,
   "id": "9ec9fcf5",
   "metadata": {},
   "outputs": [],
   "source": [
    "# PercentileRank computes the fraction of scores less than or equal to your_score.\n",
    "\n",
    "def PercentileRank(scores, your_score):\n",
    "    count = 0\n",
    "    for score in scores:\n",
    "        if score <= your_score:\n",
    "            count += 1\n",
    "\n",
    "    percentile_rank = 100.0 * count / len(scores)\n",
    "    return percentile_rank"
   ]
  },
  {
   "cell_type": "code",
   "execution_count": 52,
   "id": "ba887ade",
   "metadata": {},
   "outputs": [
    {
     "data": {
      "text/plain": [
       "59.775383910153565"
      ]
     },
     "execution_count": 52,
     "metadata": {},
     "output_type": "execute_result"
    }
   ],
   "source": [
    "# computes the percentile based statistic of first babies\n",
    "first_cdf = thinkstats2.Cdf(firsts.totalwgt_lb, label='first')\n",
    "\n",
    "# uses the CDF to look up the percentile rank of my birth weight against the distribution of first babies\n",
    "first_cdf.PercentileRank(7.5)"
   ]
  },
  {
   "cell_type": "code",
   "execution_count": 53,
   "id": "35044886",
   "metadata": {},
   "outputs": [
    {
     "data": {
      "text/plain": [
       "57.75614073910157"
      ]
     },
     "execution_count": 53,
     "metadata": {},
     "output_type": "execute_result"
    }
   ],
   "source": [
    "# computes the percentile-based statistic\n",
    "weights = live.totalwgt_lb\n",
    "live_cdf = thinkstats2.Cdf(weights, label='live')\n",
    "\n",
    "# use the CDF to look up the perecnetile rank of my birth weight against the distributuion of all babies\n",
    "live_cdf.PercentileRank(7.5)"
   ]
  },
  {
   "cell_type": "markdown",
   "id": "3f9d7921",
   "metadata": {},
   "source": [
    "# Excercise 4-2"
   ]
  },
  {
   "cell_type": "markdown",
   "id": "2dc38b3e",
   "metadata": {},
   "source": [
    "The numbers generated by random.random are supposed to be uniform between 0 and 1; that is, every value in the range should have the same probability.\n",
    "\n",
    "Generate 1000 numbers from random.random and plot their PMF and CDF. Is the distribution uniform?"
   ]
  },
  {
   "cell_type": "code",
   "execution_count": 54,
   "id": "739730be",
   "metadata": {},
   "outputs": [],
   "source": [
    "# importing neccesary files not already imported from previous excercises.\n",
    "import random\n",
    "import matplotlib.pyplot as plt"
   ]
  },
  {
   "cell_type": "code",
   "execution_count": 55,
   "id": "21d52fad",
   "metadata": {},
   "outputs": [],
   "source": [
    "# Generate 1000 random numbers\n",
    "random_numbers = [random.random() for _ in range(1000)]"
   ]
  },
  {
   "cell_type": "code",
   "execution_count": 56,
   "id": "ba8c2a73",
   "metadata": {},
   "outputs": [
    {
     "data": {
      "image/png": "[encoded data removed]",
      "text/plain": [
       "<Figure size 640x480 with 1 Axes>"
      ]
     },
     "metadata": {},
     "output_type": "display_data"
    }
   ],
   "source": [
    "# Create histogram for PMF\n",
    "pmf_values, pmf_bins, _ = plt.hist(random_numbers, bins=20, density=True, alpha=0.5, label='PMF')"
   ]
  },
  {
   "cell_type": "code",
   "execution_count": 58,
   "id": "65b9c3e0",
   "metadata": {},
   "outputs": [
    {
     "data": {
      "text/plain": [
       "<matplotlib.legend.Legend at 0x1a7d6d2a010>"
      ]
     },
     "execution_count": 58,
     "metadata": {},
     "output_type": "execute_result"
    },
    {
     "data": {
      "image/png": "[encoded data removed]",
      "text/plain": [
       "<Figure size 640x480 with 1 Axes>"
      ]
     },
     "metadata": {},
     "output_type": "display_data"
    }
   ],
   "source": [
    "# Calculate the CDF\n",
    "cdf_values = np.cumsum(pmf_values)\n",
    "plt.plot(pmf_bins[:-1], cdf_values, linestyle='-', marker='o', label='CDF')\n",
    "\n",
    "# Plot settings\n",
    "plt.xlabel('Value')\n",
    "plt.ylabel('Probability')\n",
    "plt.title('PMF and CDF of Random Numbers')\n",
    "plt.legend()"
   ]
  },
  {
   "cell_type": "markdown",
   "id": "3a9b64a9",
   "metadata": {},
   "source": [
    "Answer to Excercise 4-2\n",
    "\n",
    "The PMF does look relatively uniform to me. It does vary slightly but does not have any sharp peaks or valleys. The CDF looks to be pretty linear. Due to my visual assessment of the plotted outputs, I would say that the distribution of the random numbers gnerated is uniform."
   ]
  }
 ],
 "metadata": {
  "kernelspec": {
   "display_name": "Python 3 (ipykernel)",
   "language": "python",
   "name": "python3"
  },
  "language_info": {
   "codemirror_mode": {
    "name": "ipython",
    "version": 3
   },
   "file_extension": ".py",
   "mimetype": "text/x-python",
   "name": "python",
   "nbconvert_exporter": "python",
   "pygments_lexer": "ipython3",
   "version": "3.11.4"
  }
 },
 "nbformat": 4,
 "nbformat_minor": 5
}
