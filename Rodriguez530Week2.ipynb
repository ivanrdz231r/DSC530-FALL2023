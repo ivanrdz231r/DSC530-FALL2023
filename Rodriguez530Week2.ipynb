{
 "cells": [
  {
   "cell_type": "code",
   "execution_count": 1,
   "id": "ee4217a8",
   "metadata": {},
   "outputs": [
    {
     "name": "stdout",
     "output_type": "stream",
     "text": [
      "Hello World! My name is Rodrigo Ivan Rodrigue\n"
     ]
    }
   ],
   "source": [
    "# Display the text\n",
    "print(\"Hello World! My name is Rodrigo Ivan Rodrigue\")"
   ]
  },
  {
   "cell_type": "code",
   "execution_count": 4,
   "id": "f718eb02",
   "metadata": {},
   "outputs": [
    {
     "name": "stdout",
     "output_type": "stream",
     "text": [
      "1st Number is:  7\n",
      "2nd Number is:  6\n",
      "Added number is: num1 + num2 = 13\n"
     ]
    }
   ],
   "source": [
    "# Add two numbers together\n",
    "num1 = 7\n",
    "num2 = 6\n",
    "addition_num = num1 + num2\n",
    "print(\"1st Number is: \", num1)\n",
    "print(\"2nd Number is: \", num2)\n",
    "print(\"Added number is: num1 + num2\", \"=\", addition_num)"
   ]
  },
  {
   "cell_type": "code",
   "execution_count": 5,
   "id": "88acc4fc",
   "metadata": {},
   "outputs": [
    {
     "name": "stdout",
     "output_type": "stream",
     "text": [
      "1st Number is:  7\n",
      "2nd Number is:  6\n",
      "Subtracted number is: num1 - num2 = 1\n"
     ]
    }
   ],
   "source": [
    "# Subtract a number from another number\n",
    "num1 = 7\n",
    "num2 = 6\n",
    "subtracted_num = num1 - num2\n",
    "print(\"1st Number is: \", num1)\n",
    "print(\"2nd Number is: \", num2)\n",
    "print(\"Subtracted number is: num1 - num2\", \"=\", subtracted_num)"
   ]
  },
  {
   "cell_type": "code",
   "execution_count": 6,
   "id": "4a8ead33",
   "metadata": {},
   "outputs": [
    {
     "name": "stdout",
     "output_type": "stream",
     "text": [
      "1st Number is:  7\n",
      "2nd Number is:  6\n",
      "Multiplicated number is: num1 * num2 = 42\n"
     ]
    }
   ],
   "source": [
    "# Multipy two numbers\n",
    "num1 = 7\n",
    "num2 = 6\n",
    "multiply_num = num1 * num2\n",
    "print(\"1st Number is: \", num1)\n",
    "print(\"2nd Number is: \", num2)\n",
    "print(\"Multiplicated number is: num1 * num2\", \"=\", multiply_num)"
   ]
  },
  {
   "cell_type": "code",
   "execution_count": 13,
   "id": "bfa32aa5",
   "metadata": {},
   "outputs": [
    {
     "name": "stdout",
     "output_type": "stream",
     "text": [
      "1st Number is:  7\n",
      "2nd Number is:  6\n",
      "Devided number is: num1 / num2 = 1.17\n"
     ]
    }
   ],
   "source": [
    "# Devide two numbers\n",
    "num1 = 7\n",
    "num2 = 6\n",
    "devide_num = round(num1 / num2, 2)\n",
    "print(\"1st Number is: \", num1)\n",
    "print(\"2nd Number is: \", num2)\n",
    "print(\"Devided number is: num1 / num2\", \"=\", devide_num)"
   ]
  },
  {
   "cell_type": "code",
   "execution_count": 17,
   "id": "c1b3ff1e",
   "metadata": {},
   "outputs": [
    {
     "name": "stdout",
     "output_type": "stream",
     "text": [
      "String 1 is:  My name is\n",
      "String 2 is:  Rodrigo Ivan Rodriguez\n",
      "Concatenated string is: My name is Rodrigo Ivan Rodriguez\n"
     ]
    }
   ],
   "source": [
    "# Concatenate two strings together\n",
    "string1 = \"My name is\"\n",
    "string2 = \"Rodrigo Ivan Rodriguez\"\n",
    "string_concat = string1 + ' ' + string2\n",
    "print(\"String 1 is: \", string1)\n",
    "print(\"String 2 is: \", string2)\n",
    "print(\"Concatenated string is:\", string_concat)"
   ]
  },
  {
   "cell_type": "code",
   "execution_count": 21,
   "id": "161592ce",
   "metadata": {},
   "outputs": [
    {
     "name": "stdout",
     "output_type": "stream",
     "text": [
      "[1, 2, 3, 4]\n",
      "['how', 'are', 'you', 'doing']\n",
      "[1, 'tom', 2, 'jerry']\n"
     ]
    }
   ],
   "source": [
    "# Create a list of four items\n",
    "list1 = [1,2,3,4]\n",
    "list2 = ['how', 'are', 'you', 'doing']\n",
    "list3 = [1, 'tom', 2, 'jerry']\n",
    "print(list1)\n",
    "print(list2)\n",
    "print(list3)"
   ]
  },
  {
   "cell_type": "code",
   "execution_count": 26,
   "id": "5bc8e66d",
   "metadata": {},
   "outputs": [
    {
     "name": "stdout",
     "output_type": "stream",
     "text": [
      "Original List: [1, 2, 3, 4]\n",
      "Appended Item: 5\n",
      "Appended List: [1, 2, 3, 4, 5]\n"
     ]
    }
   ],
   "source": [
    "# Append an item to the list\n",
    "list1 = [1,2,3,4]\n",
    "print(\"Original List:\", list1)\n",
    "appended_item = 5\n",
    "print(\"Appended Item:\", appended_item)\n",
    "list1.append(5)\n",
    "print(\"Appended List:\", list1)"
   ]
  },
  {
   "cell_type": "code",
   "execution_count": 29,
   "id": "3c4a870d",
   "metadata": {},
   "outputs": [
    {
     "name": "stdout",
     "output_type": "stream",
     "text": [
      "Tuple: (1, 2, 3, 4)\n",
      "Tuples are similar to lists, but they are immutable and thus have better performance.\n"
     ]
    }
   ],
   "source": [
    "# Create a tuple with 4 items\n",
    "tuple1 = (1,2,3,4)\n",
    "print(\"Tuple:\", tuple1)\n",
    "print(\"Tuples are similar to lists, but they are immutable and thus have better performance.\")"
   ]
  }
 ],
 "metadata": {
  "kernelspec": {
   "display_name": "Python 3 (ipykernel)",
   "language": "python",
   "name": "python3"
  },
  "language_info": {
   "codemirror_mode": {
    "name": "ipython",
    "version": 3
   },
   "file_extension": ".py",
   "mimetype": "text/x-python",
   "name": "python",
   "nbconvert_exporter": "python",
   "pygments_lexer": "ipython3",
   "version": "3.11.4"
  }
 },
 "nbformat": 4,
 "nbformat_minor": 5
}
