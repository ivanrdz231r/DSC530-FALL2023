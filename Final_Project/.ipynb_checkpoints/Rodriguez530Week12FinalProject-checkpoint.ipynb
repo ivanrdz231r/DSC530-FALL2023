{
 "cells": [
  {
   "cell_type": "markdown",
   "id": "bfa049ad",
   "metadata": {},
   "source": [
    "# Week 12 Final Project"
   ]
  },
  {
   "cell_type": "markdown",
   "id": "d5c58526",
   "metadata": {},
   "source": [
    "## Research Question:"
   ]
  },
  {
   "cell_type": "markdown",
   "id": "13b8e154",
   "metadata": {},
   "source": [
    "I am looking to answer the question of what school locations are best in terms of graduation rates, rural\n",
    "schools or urban schools. Additionally I want to see what other factors may also impact graduation rates,\n",
    "since I know that location alone may not be enough to explain differences in graduation rates."
   ]
  },
  {
   "cell_type": "markdown",
   "id": "f25ce4e6",
   "metadata": {},
   "source": [
    "The following are the primary research questions I am trying to answer with this problem statement:\n",
    "\n",
    "1) Do urban schools have higher graduation rates than rural schools?\n",
    "2) Does school location (city) have an impact on graduation rates?\n",
    "3) Does the distinction of preparatory or public schools affect graduation rates?\n",
    "4) Does class size affect graduation rates?\n",
    "5) Does cultural ethnicity affect graduation rates?"
   ]
  },
  {
   "cell_type": "markdown",
   "id": "96c3ea89",
   "metadata": {},
   "source": [
    "## Dataset:"
   ]
  },
  {
   "cell_type": "markdown",
   "id": "0af97293",
   "metadata": {},
   "source": [
    "Texas Education Agency (2021, August 1). Four-Year Graduation and Dropout Data, Class of 2020, 2019,\n",
    "and 2018. Retrieved October 24, 2023, from https://tea.texas.gov"
   ]
  },
  {
   "cell_type": "markdown",
   "id": "5bac4f05",
   "metadata": {},
   "source": [
    "- campus-data-download-4yr-longitudinal-2018-2020-class.csv"
   ]
  },
  {
   "cell_type": "markdown",
   "id": "fec759e2",
   "metadata": {},
   "source": [
    "**Source**\n",
    "\n",
    "https://tea.texas.gov/reports-and-data/school-performance/accountability-research/completion-graduation-and-dropout/four-year-graduation-and-dropout-data-class-of-2020"
   ]
  },
  {
   "cell_type": "markdown",
   "id": "26c2f7cc",
   "metadata": {},
   "source": [
    "## Chapter 1) Variables"
   ]
  },
  {
   "cell_type": "markdown",
   "id": "8ce34d6b",
   "metadata": {},
   "source": [
    "***Instructions)***\n",
    "\n",
    "A minimum of 5 variables in your dataset used during your analysis (for help with selecting, the author made his selection on page 6 of your book). Consider what you think could have an impact on your question – remember this is never perfect, so don’t be worried if you miss one (Chapter 1)."
   ]
  },
  {
   "attachments": {},
   "cell_type": "markdown",
   "id": "9b0fa5e6",
   "metadata": {},
   "source": [
    "***Answer)*** \n",
    "\n",
    "Variables in the final dataset\n",
    "\n",
    "- **CAMPUS:** Campus number\n",
    "- **DISTRICT:** District number\n",
    "- **COUNTY:**            County number\n",
    "- **REGION:**            Region number\n",
    "- **CAMP_ALLD:**         Campus all students denominator\n",
    "- **CAMP_ALLR_GRAD:**    Campus all students graduation rate\n",
    "- **CAMP_HSD:**          Campus Hispanic denominator\n",
    "- **CAMP_HSR_GRAD:**     Campus Hispanic graduation numerator\n",
    "- **CAMP_ECND:**         Campus economically disadvantaged denominator\n",
    "- **CAMP_ECNN_GRAD:**    Campus economically disadvantaged graduation numerator\n",
    "- **CAMP_NECND:**        Campus not economically disadvantaged denominator\n",
    "- **CAMP_NECNN_GRAD:**   Campus not economically disadvantaged graduation numerator\n",
    "- **REGION_TYPE:**       Region type indicator\n",
    "- **PREPATORY:**         Preparatory school indicator"
   ]
  },
  {
   "cell_type": "markdown",
   "id": "ff5be984",
   "metadata": {},
   "source": [
    "***Instructions)***\n",
    "\n",
    "Describe what the 5 variables mean in the dataset (Chapter 1)."
   ]
  },
  {
   "cell_type": "markdown",
   "id": "7ec46c57",
   "metadata": {},
   "source": [
    "***Answer)***\n",
    "\n",
    "The raw dataset has 347 variables. The dataset has four-year longitudinal graduation, completion, and dropout data for the class of 2020, 2019, and 2018 by multiple student characteristics.\n",
    "\n",
    "For the purposes of this project I will focus on the variables listed above.\n",
    "\n",
    "These variables have information pertaining to the schools, and students. Minaly the data tells us the\n",
    "\n",
    "- School classifications\n",
    "- Class size\n",
    "- Overall graduation rate\n",
    "- Hispanic students graduation rate\n",
    "- Economically disadvataged graduation rate\n",
    "- Non-Economically disadvataged graduation rate\n",
    "- School Region type\n",
    "- School Preparatory indicator"
   ]
  },
  {
   "cell_type": "markdown",
   "id": "7596b3a9",
   "metadata": {},
   "source": [
    "## Chapter 2) EDA"
   ]
  },
  {
   "cell_type": "markdown",
   "id": "415a6f2e",
   "metadata": {},
   "source": [
    "***Instructions)***\n",
    "\n",
    "Include a histogram of each of the 5 variables – in your summary and analysis, identify any outliers and explain the reasoning for them being outliers and how you believe they should be handled (Chapter 2)."
   ]
  },
  {
   "cell_type": "code",
   "execution_count": 8,
   "id": "480a5db2",
   "metadata": {},
   "outputs": [
    {
     "data": {
      "text/plain": [
       "<bound method NDFrame.head of          CAMPUS          CAMPNAME  DISTRICT           DISTNAME  COUNTY  \\\n",
       "0       1902001        Cayuga H S      1902         Cayuga ISD       1   \n",
       "1       1903001       Elkhart H S      1903        Elkhart ISD       1   \n",
       "2       1904001     Frankston H S      1904      Frankston ISD       1   \n",
       "3       1906002        Neches H S      1906         Neches ISD       1   \n",
       "4       1907001     Palestine H S      1907      Palestine ISD       1   \n",
       "...         ...               ...       ...                ...     ...   \n",
       "5551  252902002  Newcastle School    252902      Newcastle ISD     252   \n",
       "5552  252903001          Olney HS    252903          Olney ISD     252   \n",
       "5553  253901001         Zapata HS    253901  Zapata County ISD     253   \n",
       "5554  254901001   Crystal City HS    254901   Crystal City ISD     254   \n",
       "5555  254902001       La Pryor HS    254902       La Pryor ISD     254   \n",
       "\n",
       "             CNTYNAME  REGION       REGNNAME  CAMP_ALLD  CAMP_ALLR_GRAD  \\\n",
       "0     Anderson County       7        Kilgore         39              97   \n",
       "1     Anderson County       7        Kilgore         90              98   \n",
       "2     Anderson County       7        Kilgore         51              98   \n",
       "3     Anderson County       7        Kilgore         33              97   \n",
       "4     Anderson County       7        Kilgore        231              97   \n",
       "...               ...     ...            ...        ...             ...   \n",
       "5551     Young County       9  Wichita Falls         17             100   \n",
       "5552     Young County       9  Wichita Falls         47              92   \n",
       "5553    Zapata County       1       Edinburg        259              88   \n",
       "5554    Zavala County      20    San Antonio        118              88   \n",
       "5555    Zavala County      20    San Antonio         33              91   \n",
       "\n",
       "      CAMP_HSD  CAMP_HSR_GRAD  CAMP_ECND  CAMP_ECNN_GRAD  CAMP_NECND  \\\n",
       "0            0            0.0         14              13          25   \n",
       "1           10          100.0         37              36          53   \n",
       "2            5          100.0         20              19          31   \n",
       "3            5          100.0         10              10          23   \n",
       "4          102           99.0        146             141          85   \n",
       "...        ...            ...        ...             ...         ...   \n",
       "5551         0            0.0         10              10           7   \n",
       "5552        25           96.0         32              28          15   \n",
       "5553         0           88.0        219             190          40   \n",
       "5554         0           89.0         95              83          23   \n",
       "5555         0           91.0         27              24           6   \n",
       "\n",
       "      CAMP_NECNN_GRAD  REGION_TYPE  PREPATORY  \n",
       "0                  25            1          1  \n",
       "1                  52            1          1  \n",
       "2                  31            1          1  \n",
       "3                  22            1          1  \n",
       "4                  84            1          1  \n",
       "...               ...          ...        ...  \n",
       "5551                7            1          1  \n",
       "5552               15            1          1  \n",
       "5553               39            1          1  \n",
       "5554               21            2          1  \n",
       "5555                6            2          1  \n",
       "\n",
       "[5556 rows x 18 columns]>"
      ]
     },
     "execution_count": 8,
     "metadata": {},
     "output_type": "execute_result"
    }
   ],
   "source": [
    "import pandas as pd\n",
    "\n",
    "# reading the data\n",
    "df_hs = pd.read_csv('C:/Users/ivan2/gitLocal/DSC530-FALL2023/Final_Project/School_data/campus-data-download-4yr-longitudinal-2018-2020-class.csv.csv')\n",
    "df_hs.head"
   ]
  },
  {
   "cell_type": "code",
   "execution_count": 9,
   "id": "4318b48e",
   "metadata": {},
   "outputs": [
    {
     "name": "stdout",
     "output_type": "stream",
     "text": [
      "CAMPUS               int64\n",
      "CAMPNAME            object\n",
      "DISTRICT             int64\n",
      "DISTNAME            object\n",
      "COUNTY               int64\n",
      "CNTYNAME            object\n",
      "REGION               int64\n",
      "REGNNAME            object\n",
      "CAMP_ALLD            int64\n",
      "CAMP_ALLR_GRAD       int64\n",
      "CAMP_HSD             int64\n",
      "CAMP_HSR_GRAD      float64\n",
      "CAMP_ECND            int64\n",
      "CAMP_ECNN_GRAD       int64\n",
      "CAMP_NECND           int64\n",
      "CAMP_NECNN_GRAD      int64\n",
      "REGION_TYPE          int64\n",
      "PREPATORY            int64\n",
      "dtype: object\n"
     ]
    }
   ],
   "source": [
    "data_types = df_hs.dtypes\n",
    "\n",
    "print(data_types)"
   ]
  },
  {
   "cell_type": "code",
   "execution_count": 10,
   "id": "f2339505",
   "metadata": {},
   "outputs": [
    {
     "ename": "ModuleNotFoundError",
     "evalue": "No module named 'thinkstats2'",
     "output_type": "error",
     "traceback": [
      "\u001b[1;31m---------------------------------------------------------------------------\u001b[0m",
      "\u001b[1;31mModuleNotFoundError\u001b[0m                       Traceback (most recent call last)",
      "Cell \u001b[1;32mIn[10], line 2\u001b[0m\n\u001b[0;32m      1\u001b[0m \u001b[38;5;28;01mimport\u001b[39;00m \u001b[38;5;21;01mnumpy\u001b[39;00m \u001b[38;5;28;01mas\u001b[39;00m \u001b[38;5;21;01mnp\u001b[39;00m\n\u001b[1;32m----> 2\u001b[0m \u001b[38;5;28;01mimport\u001b[39;00m \u001b[38;5;21;01mthinkstats2\u001b[39;00m\n\u001b[0;32m      3\u001b[0m \u001b[38;5;28;01mimport\u001b[39;00m \u001b[38;5;21;01mthinkplot\u001b[39;00m\n",
      "\u001b[1;31mModuleNotFoundError\u001b[0m: No module named 'thinkstats2'"
     ]
    }
   ],
   "source": [
    "import numpy as np\n",
    "import thinkstats2\n",
    "import thinkplot"
   ]
  },
  {
   "cell_type": "code",
   "execution_count": 11,
   "id": "3d876432",
   "metadata": {},
   "outputs": [
    {
     "name": "stdout",
     "output_type": "stream",
     "text": [
      "There are 1942 unique campuses.\n",
      "There are 1074 unique districts.\n",
      "There are 252 unique counties.\n",
      "There are 20 unique metropolitan cities.\n"
     ]
    }
   ],
   "source": [
    "# Unique counts of classification variables\n",
    "unique_campuses = df_hs['CAMPUS'].nunique()\n",
    "unique_districts = df_hs['DISTRICT'].nunique()\n",
    "unique_county = df_hs['COUNTY'].nunique()\n",
    "unique_metro = df_hs['REGION'].nunique()\n",
    "\n",
    "print(f'There are {unique_campuses} unique campuses.')\n",
    "print(f'There are {unique_districts} unique districts.')\n",
    "print(f'There are {unique_county} unique counties.')\n",
    "print(f'There are {unique_metro} unique metropolitan cities.')"
   ]
  },
  {
   "cell_type": "code",
   "execution_count": 12,
   "id": "a138efeb",
   "metadata": {},
   "outputs": [
    {
     "ename": "NameError",
     "evalue": "name 'thinkstats2' is not defined",
     "output_type": "error",
     "traceback": [
      "\u001b[1;31m---------------------------------------------------------------------------\u001b[0m",
      "\u001b[1;31mNameError\u001b[0m                                 Traceback (most recent call last)",
      "Cell \u001b[1;32mIn[12], line 2\u001b[0m\n\u001b[0;32m      1\u001b[0m \u001b[38;5;66;03m# Create the histogram for Class Size\u001b[39;00m\n\u001b[1;32m----> 2\u001b[0m hist \u001b[38;5;241m=\u001b[39m thinkstats2\u001b[38;5;241m.\u001b[39mHist(df_hs\u001b[38;5;241m.\u001b[39mCAMP_ALLD, label\u001b[38;5;241m=\u001b[39m\u001b[38;5;124m'\u001b[39m\u001b[38;5;124mClass Size\u001b[39m\u001b[38;5;124m'\u001b[39m)\n\u001b[0;32m      3\u001b[0m thinkplot\u001b[38;5;241m.\u001b[39mHist(hist)\n\u001b[0;32m      4\u001b[0m thinkplot\u001b[38;5;241m.\u001b[39mShow(xlabel\u001b[38;5;241m=\u001b[39m\u001b[38;5;124m'\u001b[39m\u001b[38;5;124mClass Size\u001b[39m\u001b[38;5;124m'\u001b[39m, ylabel\u001b[38;5;241m=\u001b[39m\u001b[38;5;124m'\u001b[39m\u001b[38;5;124mfrequency\u001b[39m\u001b[38;5;124m'\u001b[39m)\n",
      "\u001b[1;31mNameError\u001b[0m: name 'thinkstats2' is not defined"
     ]
    }
   ],
   "source": [
    "# Create the histogram for Class Size\n",
    "hist = thinkstats2.Hist(df_hs.CAMP_ALLD, label='Class Size')\n",
    "thinkplot.Hist(hist)\n",
    "thinkplot.Show(xlabel='Class Size', ylabel='frequency')"
   ]
  },
  {
   "cell_type": "code",
   "execution_count": null,
   "id": "5e5b1006",
   "metadata": {},
   "outputs": [],
   "source": [
    "# Create the histogram for Class Size\n",
    "hist = thinkstats2.Hist(df_hs.CAMP_ALLR_GRAD, label='Graduation Rates')\n",
    "thinkplot.Hist(hist)\n",
    "thinkplot.Show(xlabel='All Schools Graduation Rates', ylabel='frequency')\n",
    "\n",
    "# Need to filter out classes with a size of 0"
   ]
  },
  {
   "cell_type": "code",
   "execution_count": null,
   "id": "01b79198",
   "metadata": {},
   "outputs": [],
   "source": [
    "# Create the histogram for Hispanic Class Size\n",
    "hist = thinkstats2.Hist(df_hs.CAMP_HSD, label='Hispanic Class Size')\n",
    "thinkplot.Hist(hist)\n",
    "thinkplot.Show(xlabel='Hispanic Class Size', ylabel='frequency')"
   ]
  },
  {
   "cell_type": "code",
   "execution_count": null,
   "id": "6d257413",
   "metadata": {},
   "outputs": [],
   "source": [
    "# Create the histogram for Class Size\n",
    "hist = thinkstats2.Hist(df_hs.CAMP_HSR_GRAD, label='Hispanic Students Graduation Rates')\n",
    "thinkplot.Hist(hist)\n",
    "thinkplot.Show(xlabel='Hispanic Students Graduation Rates', ylabel='frequency')"
   ]
  },
  {
   "cell_type": "code",
   "execution_count": null,
   "id": "1b705da0",
   "metadata": {},
   "outputs": [],
   "source": [
    "import matplotlib.pyplot as plt\n",
    "\n",
    "# Count the unique values\n",
    "region_type_counts = df_hs['REGION_TYPE'].value_counts()\n",
    "\n",
    "# Create a pie chart\n",
    "plt.figure(figsize=(8, 8))\n",
    "plt.pie(region_type_counts, labels=region_type_counts.index, autopct='%1.1f%%', startangle=90)\n",
    "plt.title('Distribution of REGION_TYPE')\n",
    "plt.show()"
   ]
  },
  {
   "cell_type": "code",
   "execution_count": null,
   "id": "60f6ec5f",
   "metadata": {},
   "outputs": [],
   "source": []
  },
  {
   "cell_type": "code",
   "execution_count": null,
   "id": "7da7680f",
   "metadata": {},
   "outputs": [],
   "source": []
  },
  {
   "cell_type": "code",
   "execution_count": null,
   "id": "7db15a43",
   "metadata": {},
   "outputs": [],
   "source": []
  },
  {
   "cell_type": "code",
   "execution_count": null,
   "id": "7c934c39",
   "metadata": {},
   "outputs": [],
   "source": []
  }
 ],
 "metadata": {
  "kernelspec": {
   "display_name": "Python 3 (ipykernel)",
   "language": "python",
   "name": "python3"
  },
  "language_info": {
   "codemirror_mode": {
    "name": "ipython",
    "version": 3
   },
   "file_extension": ".py",
   "mimetype": "text/x-python",
   "name": "python",
   "nbconvert_exporter": "python",
   "pygments_lexer": "ipython3",
   "version": "3.11.4"
  }
 },
 "nbformat": 4,
 "nbformat_minor": 5
}
